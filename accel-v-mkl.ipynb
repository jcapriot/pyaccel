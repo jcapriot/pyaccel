{
 "cells": [
  {
   "cell_type": "code",
   "execution_count": 1,
   "id": "b78717bd-347d-46b4-a773-54badb9234a7",
   "metadata": {
    "tags": [],
    "ExecuteTime": {
     "end_time": "2023-12-20T19:23:48.418106Z",
     "start_time": "2023-12-20T19:23:48.009502Z"
    }
   },
   "outputs": [],
   "source": [
    "import scipy.sparse as sp\n",
    "import numpy as np\n",
    "from pyaccel.accel_solver import Solver\n",
    "import discretize\n",
    "import time\n",
    "# from pydiso.mkl_solver import MKLPardisoSolver"
   ]
  },
  {
   "cell_type": "code",
   "execution_count": 2,
   "id": "3e2dffd9-a3e2-41d2-840f-2295cbff7ac2",
   "metadata": {
    "tags": [],
    "ExecuteTime": {
     "end_time": "2023-12-20T19:23:49.027309Z",
     "start_time": "2023-12-20T19:23:49.016712Z"
    }
   },
   "outputs": [],
   "source": [
    "n = 100\n",
    "\n",
    "mesh = discretize.TensorMesh((n, n))\n",
    "D = mesh.face_divergence\n",
    "Mf = mesh.get_face_inner_product()"
   ]
  },
  {
   "cell_type": "code",
   "execution_count": 3,
   "id": "1f115df4-56ef-447d-911c-b5078df3e11b",
   "metadata": {
    "tags": [],
    "ExecuteTime": {
     "end_time": "2023-12-20T19:23:49.432113Z",
     "start_time": "2023-12-20T19:23:49.428344Z"
    }
   },
   "outputs": [],
   "source": [
    "A = D @ Mf @ D.T\n",
    "\n",
    "x = np.random.rand(mesh.n_cells)\n",
    "\n",
    "b = A @ x"
   ]
  },
  {
   "cell_type": "code",
   "execution_count": 4,
   "id": "30b4077b-e674-4a03-aaa2-90e5a1af384f",
   "metadata": {
    "tags": [],
    "ExecuteTime": {
     "end_time": "2023-12-20T19:23:49.853236Z",
     "start_time": "2023-12-20T19:23:49.846006Z"
    }
   },
   "outputs": [
    {
     "name": "stdout",
     "output_type": "stream",
     "text": [
      "n: 100 nnz 49600\n",
      "solve worked: True\n",
      "Accelerate factor: 0.004929065704345703 solve: 0.0007481575012207031\n"
     ]
    }
   ],
   "source": [
    "t1 = time.time()\n",
    "Ainv = Solver(A)\n",
    "Ainv.factor()\n",
    "t2 = time.time()\n",
    "x2 = Ainv.solve(b, refinement_steps=1)\n",
    "t3 = time.time()\n",
    "print(\"n:\", n, 'nnz', A.nnz)\n",
    "print(\"solve worked:\", np.allclose(x, x2))\n",
    "print(\"Accelerate factor:\", t2-t1, \"solve:\", t3-t2)"
   ]
  },
  {
   "cell_type": "code",
   "execution_count": 5,
   "id": "2e7a122d-bf49-493d-929a-68ecba9f4473",
   "metadata": {
    "tags": [],
    "ExecuteTime": {
     "end_time": "2023-12-20T19:23:50.628800Z",
     "start_time": "2023-12-20T19:23:50.531087Z"
    }
   },
   "outputs": [
    {
     "ename": "NameError",
     "evalue": "name 'MKLPardisoSolver' is not defined",
     "output_type": "error",
     "traceback": [
      "\u001B[0;31m---------------------------------------------------------------------------\u001B[0m",
      "\u001B[0;31mNameError\u001B[0m                                 Traceback (most recent call last)",
      "Cell \u001B[0;32mIn[5], line 2\u001B[0m\n\u001B[1;32m      1\u001B[0m t1 \u001B[38;5;241m=\u001B[39m time\u001B[38;5;241m.\u001B[39mtime()\n\u001B[0;32m----> 2\u001B[0m Ainv2 \u001B[38;5;241m=\u001B[39m \u001B[43mMKLPardisoSolver\u001B[49m(A, matrix_type\u001B[38;5;241m=\u001B[39m\u001B[38;5;124m'\u001B[39m\u001B[38;5;124mreal_symmetric_positive_definite\u001B[39m\u001B[38;5;124m'\u001B[39m)\n\u001B[1;32m      3\u001B[0m t2 \u001B[38;5;241m=\u001B[39m time\u001B[38;5;241m.\u001B[39mtime()\n\u001B[1;32m      5\u001B[0m x3 \u001B[38;5;241m=\u001B[39m Ainv2\u001B[38;5;241m.\u001B[39msolve(b)\n",
      "\u001B[0;31mNameError\u001B[0m: name 'MKLPardisoSolver' is not defined"
     ]
    }
   ],
   "source": [
    "t1 = time.time()\n",
    "Ainv2 = MKLPardisoSolver(A, matrix_type='real_symmetric_positive_definite')\n",
    "t2 = time.time()\n",
    "\n",
    "x3 = Ainv2.solve(b)\n",
    "t3 = time.time()\n",
    "print(\"solve worked:\", np.allclose(x, x3))\n",
    "print(\"MKL Pardiso factor:\", t2-t1, \"solve:\", t3-t2)"
   ]
  },
  {
   "cell_type": "code",
   "execution_count": 6,
   "id": "a5e7b1a9-9e09-4697-98f3-8f4bcc9867d2",
   "metadata": {
    "tags": [],
    "ExecuteTime": {
     "end_time": "2023-12-20T19:23:51.314684Z",
     "start_time": "2023-12-20T19:23:51.296292Z"
    }
   },
   "outputs": [
    {
     "name": "stdout",
     "output_type": "stream",
     "text": [
      "(10000, 20200) (10000, 10000) (20200, 20200)\n"
     ]
    }
   ],
   "source": [
    "C = mesh.edge_curl\n",
    "Me = mesh.get_edge_inner_product()\n",
    "Mfz = sp.diags(mesh.cell_volumes)\n",
    "print(C.shape, Mfz.shape, Me.shape)\n",
    "A_c = C.T @ Mfz @ C - 1j * Me\n",
    "A_r = C.T @ Mfz @ C\n",
    "A_i = -Me\n",
    "\n",
    "x_c = np.random.rand(A_c.shape[1]) + 1j * np.random.rand(A_c.shape[1])\n",
    "\n",
    "b_c = A_c @ x_c"
   ]
  },
  {
   "cell_type": "markdown",
   "id": "990af855-6856-4211-948a-8ab792498b67",
   "metadata": {},
   "source": [
    "$$\n",
    "(A + i B)(x_r + i x_i) = (c_r + i c_i)\n",
    "$$\n",
    "\n",
    "$$\n",
    "A x_r  - B x_i + i (A x_i + B x_r) = (c_r + i c_i)\n",
    "$$\n",
    "\n",
    "$$\n",
    "A x_r - B x_i = c_r\\\\\n",
    "A x_i + B x_r = c_i\n",
    "$$\n",
    "\n",
    "$$\n",
    "\\begin{pmatrix}\n",
    "A & - B \\\\\n",
    "B & A\n",
    "\\end{pmatrix}\n",
    "\\begin{pmatrix}\n",
    "x_r\\\\\n",
    "x_i\n",
    "\\end{pmatrix}\n",
    "=\n",
    "\\begin{pmatrix}\n",
    "c_r\\\\\n",
    "c_i\n",
    "\\end{pmatrix}\n",
    "$$\n",
    "$$\n",
    "\\begin{pmatrix}\n",
    "B & A\\\\\n",
    "A & - B\n",
    "\\end{pmatrix}\n",
    "\\begin{pmatrix}\n",
    "x_r\\\\\n",
    "x_i\n",
    "\\end{pmatrix}\n",
    "=\n",
    "\\begin{pmatrix}\n",
    "c_i\\\\\n",
    "c_r\n",
    "\\end{pmatrix}\n",
    "$$\n",
    "\n",
    "\n",
    "$$\n",
    "\\begin{pmatrix}\n",
    "I & B^{-1}A\\\\\n",
    "A & - B\n",
    "\\end{pmatrix}\n",
    "\\begin{pmatrix}\n",
    "x_r\\\\\n",
    "x_i\n",
    "\\end{pmatrix}\n",
    "=\n",
    "\\begin{pmatrix}\n",
    "B^{-1}c_i\\\\\n",
    "c_r\n",
    "\\end{pmatrix}\n",
    "$$\n",
    "\n",
    "\n",
    "\n",
    "\n",
    "$$\n",
    "\\begin{pmatrix}\n",
    "I & B^{-1}A\\\\\n",
    "-B^{-1} A & I\n",
    "\\end{pmatrix}\n",
    "\\begin{pmatrix}\n",
    "x_r\\\\\n",
    "x_i\n",
    "\\end{pmatrix}\n",
    "=\n",
    "\\begin{pmatrix}\n",
    "B^{-1}c_i\\\\\n",
    "-B^{-1} c_r\n",
    "\\end{pmatrix}\n",
    "$$"
   ]
  },
  {
   "cell_type": "code",
   "execution_count": 12,
   "id": "a72d4b68-78a9-4ded-91f2-758b3e23e4f5",
   "metadata": {
    "tags": [],
    "ExecuteTime": {
     "end_time": "2023-12-20T19:24:28.277624Z",
     "start_time": "2023-12-20T19:24:28.224651Z"
    }
   },
   "outputs": [
    {
     "name": "stdout",
     "output_type": "stream",
     "text": [
      "Solver worked: True\n",
      "Apple time, factor: 0.03684115409851074, solve: 0.005430936813354492\n"
     ]
    }
   ],
   "source": [
    "A_solve = sp.bmat([[A_i, A_r], [A_r, -A_i]], format='csc')\n",
    "\n",
    "t1 = time.time()\n",
    "Ainv3 = Solver(A_solve, factor_type='ldlt-sbk')\n",
    "Ainv3.factor()\n",
    "t2 = time.time()\n",
    "\n",
    "t2 = time.time()\n",
    "x_c2 = Ainv3.solve(np.r_[b_c.imag, b_c.real], refinement_steps=1)\n",
    "x_c2 = x_c2.reshape((2, -1))\n",
    "x_c2 = x_c2[0] + 1j * x_c2[1]\n",
    "t3 = time.time()\n",
    "\n",
    "print('Solver worked:', np.allclose(x_c, x_c2))\n",
    "print(f'Apple time, factor: {t2-t1}, solve: {t3-t2}')"
   ]
  },
  {
   "cell_type": "code",
   "execution_count": 34,
   "id": "d78a591c-be9b-477e-8c0b-a700867078a6",
   "metadata": {
    "tags": []
   },
   "outputs": [
    {
     "name": "stdout",
     "output_type": "stream",
     "text": [
      "Solver worked: True\n",
      "MKL time, factor: 0.11150693893432617, solve: 0.003846883773803711\n"
     ]
    }
   ],
   "source": [
    "t1 = time.time()\n",
    "Ainv4 = MKLPardisoSolver(A_c, matrix_type='complex_symmetric')\n",
    "t2 = time.time()\n",
    "x_c3 = Ainv4.solve(b_c)\n",
    "t3 = time.time()\n",
    "print('Solver worked:', np.allclose(x_c, x_c3))\n",
    "print(f'MKL time, factor: {t2-t1}, solve: {t3-t2}')"
   ]
  },
  {
   "cell_type": "code",
   "execution_count": null,
   "id": "173d8001-ebc1-4c20-9940-568f6fd84a98",
   "metadata": {},
   "outputs": [],
   "source": []
  }
 ],
 "metadata": {
  "kernelspec": {
   "display_name": "Python 3 (ipykernel)",
   "language": "python",
   "name": "python3"
  },
  "language_info": {
   "codemirror_mode": {
    "name": "ipython",
    "version": 3
   },
   "file_extension": ".py",
   "mimetype": "text/x-python",
   "name": "python",
   "nbconvert_exporter": "python",
   "pygments_lexer": "ipython3",
   "version": "3.8.12"
  }
 },
 "nbformat": 4,
 "nbformat_minor": 5
}
